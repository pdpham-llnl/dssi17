{
 "cells": [
  {
   "cell_type": "code",
   "execution_count": 1,
   "metadata": {
    "collapsed": true
   },
   "outputs": [],
   "source": [
    "load(file = 'contest2017.Rdata')"
   ]
  },
  {
   "cell_type": "code",
   "execution_count": 9,
   "metadata": {},
   "outputs": [
    {
     "data": {
      "text/html": [
       "<ol class=list-inline>\n",
       "\t<li>'Xtest'</li>\n",
       "\t<li>'Xtrain'</li>\n",
       "\t<li>'Ytest'</li>\n",
       "\t<li>'Ytrain'</li>\n",
       "</ol>\n"
      ],
      "text/latex": [
       "\\begin{enumerate*}\n",
       "\\item 'Xtest'\n",
       "\\item 'Xtrain'\n",
       "\\item 'Ytest'\n",
       "\\item 'Ytrain'\n",
       "\\end{enumerate*}\n"
      ],
      "text/markdown": [
       "1. 'Xtest'\n",
       "2. 'Xtrain'\n",
       "3. 'Ytest'\n",
       "4. 'Ytrain'\n",
       "\n",
       "\n"
      ],
      "text/plain": [
       "[1] \"Xtest\"  \"Xtrain\" \"Ytest\"  \"Ytrain\""
      ]
     },
     "metadata": {},
     "output_type": "display_data"
    }
   ],
   "source": [
    "ls()"
   ]
  },
  {
   "cell_type": "code",
   "execution_count": 11,
   "metadata": {},
   "outputs": [],
   "source": [
    "write.csv(Xtrain,file='cars_Xtrain.csv')\n",
    "write.csv(Ytrain,file='cars_Ytrain.csv')\n",
    "\n",
    "write.csv(Xtest,file='cars_Xtest.csv')\n",
    "write.csv(Ytest,file='cars_Ytest.csv')\n"
   ]
  },
  {
   "cell_type": "code",
   "execution_count": null,
   "metadata": {
    "collapsed": true
   },
   "outputs": [],
   "source": []
  }
 ],
 "metadata": {
  "kernelspec": {
   "display_name": "R",
   "language": "R",
   "name": "ir"
  },
  "language_info": {
   "codemirror_mode": "r",
   "file_extension": ".r",
   "mimetype": "text/x-r-source",
   "name": "R",
   "pygments_lexer": "r",
   "version": "3.3.2"
  }
 },
 "nbformat": 4,
 "nbformat_minor": 2
}
