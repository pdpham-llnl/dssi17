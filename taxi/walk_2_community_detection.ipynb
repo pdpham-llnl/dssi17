{
 "cells": [
  {
   "cell_type": "code",
   "execution_count": null,
   "metadata": {
    "collapsed": true
   },
   "outputs": [],
   "source": [
    "def assign_grid(g,grid_size=200):\n",
    "    lon_min = min([n['lon'] for _,n in g.node.items()])\n",
    "    lon_max = max([n['lon'] for _,n in g.node.items()])\n",
    "    lon_width = (lon_max - lon_min)/grid_size\n",
    "    \n",
    "    lat_min = min([n['lat'] for _,n in g.node.items()])\n",
    "    lat_max = max([n['lat'] for _,n in g.node.items()])\n",
    "    lat_width = (lat_max - lat_min)/grid_size\n",
    "    \n",
    "    g_grid = nx.Graph()\n",
    "    \n",
    "    for n,dat in g.node.items():\n",
    "        la = int((dat['lat']- lat_min)/lat_width) #lower lat\n",
    "        lo = int((dat['lon']- lon_min)/lon_width) #lower lon\n",
    "        g_grid.add_edge(n,'a%03d-o%03d'%(la,lo))\n",
    "        g_grid.add_edge(n,'a%03d-o%03d'%(la+1,lo))\n",
    "        g_grid.add_edge(n,'a%03d-o%03d'%(la,lo+1))\n",
    "        g_grid.add_edge(n,'a%03d-o%03d'%(la+1,lo+1))\n",
    "\n",
    "    return g_grid"
   ]
  },
  {
   "cell_type": "code",
   "execution_count": null,
   "metadata": {
    "collapsed": true
   },
   "outputs": [],
   "source": [
    "import networkx as nx\n",
    "\n",
    "def geo_mask(g,k_nearest=5):\n",
    "    idx2name = [n for n in g]\n",
    "    X = [[g.node[n]['lon'],g.node[n]['lat']] for n in g]\n",
    "    kdt = KDTree(X)\n",
    "    G = nx.parse_adjlist(\n",
    "        [' '.join([idx2name[idx] for idx in adj]) \\\n",
    "            for adj in kdt.query(X,k_nearest)[1]\n",
    "        ])\n",
    "    return G"
   ]
  },
  {
   "cell_type": "code",
   "execution_count": 1,
   "metadata": {
    "collapsed": true
   },
   "outputs": [],
   "source": [
    "import numpy as np\n",
    "import networkx as nx\n",
    "import numpy as np\n",
    "from scipy.sparse import diags\n",
    "eps = np.finfo(float).eps"
   ]
  },
  {
   "cell_type": "code",
   "execution_count": null,
   "metadata": {
    "collapsed": true
   },
   "outputs": [],
   "source": [
    "def walk2_cd(A):\n",
    "    A = A.dot()\n",
    "    A = A.dot(A)\n",
    "    "
   ]
  },
  {
   "cell_type": "code",
   "execution_count": 2,
   "metadata": {
    "collapsed": true
   },
   "outputs": [],
   "source": []
  },
  {
   "cell_type": "code",
   "execution_count": 2,
   "metadata": {
    "collapsed": true
   },
   "outputs": [],
   "source": [
    "g = nx.read_gml('../data/taxi-CencusBlock/CBCycle00Snap0.gml').to_undirected()"
   ]
  },
  {
   "cell_type": "code",
   "execution_count": 3,
   "metadata": {
    "collapsed": true
   },
   "outputs": [],
   "source": [
    "A = nx.adjacency_matrix(g)"
   ]
  },
  {
   "cell_type": "code",
   "execution_count": 4,
   "metadata": {},
   "outputs": [
    {
     "name": "stdout",
     "output_type": "stream",
     "text": [
      "18.3 ns ± 0.134 ns per loop (mean ± std. dev. of 7 runs, 100000000 loops each)\n"
     ]
    }
   ],
   "source": [
    "%%timeit\n",
    "A"
   ]
  },
  {
   "cell_type": "code",
   "execution_count": null,
   "metadata": {
    "collapsed": true
   },
   "outputs": [],
   "source": []
  },
  {
   "cell_type": "code",
   "execution_count": null,
   "metadata": {
    "collapsed": true
   },
   "outputs": [],
   "source": []
  },
  {
   "cell_type": "code",
   "execution_count": 9,
   "metadata": {
    "collapsed": true
   },
   "outputs": [],
   "source": [
    "D = A.dot(np.ones(A.shape[0]))\n",
    "D = diags(1 / np.sqrt(D + eps))"
   ]
  },
  {
   "cell_type": "code",
   "execution_count": 14,
   "metadata": {
    "collapsed": true
   },
   "outputs": [],
   "source": [
    "A_bar = D.dot(A).dot(D)"
   ]
  },
  {
   "cell_type": "code",
   "execution_count": 20,
   "metadata": {},
   "outputs": [
    {
     "data": {
      "text/plain": [
       "<38795x38795 sparse matrix of type '<class 'numpy.float64'>'\n",
       "\twith 43715307 stored elements in Compressed Sparse Row format>"
      ]
     },
     "execution_count": 20,
     "metadata": {},
     "output_type": "execute_result"
    }
   ],
   "source": [
    "A_bar.dot(A_bar)"
   ]
  },
  {
   "cell_type": "code",
   "execution_count": 21,
   "metadata": {},
   "outputs": [
    {
     "data": {
      "text/plain": [
       "38795"
      ]
     },
     "execution_count": 21,
     "metadata": {},
     "output_type": "execute_result"
    }
   ],
   "source": [
    "g.number_of_nodes()"
   ]
  },
  {
   "cell_type": "code",
   "execution_count": 19,
   "metadata": {},
   "outputs": [
    {
     "data": {
      "text/plain": [
       "array([  1.49011612e-08,   1.49011612e-08,   2.69629375e+01, ...,\n",
       "         2.23606798e+00,   1.49011612e-08,   1.49011612e-08])"
      ]
     },
     "execution_count": 19,
     "metadata": {},
     "output_type": "execute_result"
    }
   ],
   "source": [
    "np.sqrt(D + eps)"
   ]
  },
  {
   "cell_type": "code",
   "execution_count": 130,
   "metadata": {
    "collapsed": true
   },
   "outputs": [],
   "source": []
  },
  {
   "cell_type": "code",
   "execution_count": 131,
   "metadata": {
    "collapsed": true
   },
   "outputs": [],
   "source": [
    "m = geo_mask(g)"
   ]
  },
  {
   "cell_type": "code",
   "execution_count": 115,
   "metadata": {
    "collapsed": true
   },
   "outputs": [],
   "source": [
    "kdt = KDTree(X)"
   ]
  },
  {
   "cell_type": "code",
   "execution_count": null,
   "metadata": {
    "collapsed": true
   },
   "outputs": [],
   "source": []
  }
 ],
 "metadata": {
  "kernelspec": {
   "display_name": "Python 3",
   "language": "python",
   "name": "python3"
  },
  "language_info": {
   "codemirror_mode": {
    "name": "ipython",
    "version": 3
   },
   "file_extension": ".py",
   "mimetype": "text/x-python",
   "name": "python",
   "nbconvert_exporter": "python",
   "pygments_lexer": "ipython3",
   "version": "3.5.2"
  }
 },
 "nbformat": 4,
 "nbformat_minor": 2
}
